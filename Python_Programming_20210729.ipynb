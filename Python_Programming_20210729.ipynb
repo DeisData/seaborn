{
 "cells": [
  {
   "cell_type": "markdown",
   "metadata": {
    "id": "3hYxOGLBchMJ"
   },
   "source": [
    "# Python Programming\n",
    "\n",
    "**Our goal** is to lay out a program that gets results.  We will learn and discover!\n",
    "\n",
    "This top-down learning is different. We will go directly to coding and start practicing.  This will give us a context for connecting with deeper knowledge.  It is iterative and we will improve with practice.\n",
    "\n",
    "**[Our Workshop Google Doc](https://bit.ly/pyfun21)** has a code reference sheet\n",
    "\n",
    "### Core Concepts:\n",
    "- loops\n",
    "- functions\n",
    "- conditionals\n",
    "- exploratory data analysis\n",
    "\n",
    "*[Resources List](#resources)*\n",
    "\n",
    "#### Session 1 Agenda:\n",
    "- [Syntax Sandbox](#bullet1)\n",
    "- Starting Our challenge\n",
    "  - [Load Libraries](#bullet2)\n",
    "  - [Load and inspect data](#bullet3): functions, methods, and loops!\n",
    "  - [Access parts of the dataframe](#bullet5) and plot data!\n",
    "  - [Your Challenge](#bullet6)\n",
    "\n",
    "#### [Session 2](#bullet7) Agenda\n",
    "- Use [conditional if-elif-else statements](#bullet8) to explore data based on value\n",
    "- [Data Visualizations with Seaborn](#bullet9)\n",
    "\n",
    "#### Session 3 Agenda\n",
    "- Writing Functions\n",
    "- Statistical Analysis"
   ]
  },
  {
   "cell_type": "markdown",
   "metadata": {
    "id": "EKZw64ZAchMK"
   },
   "source": [
    "***\n",
    "\n",
    "## *Syntax Sandbox* <a class=\"anchor\" id=\"bullet1\"></a>"
   ]
  },
  {
   "cell_type": "code",
   "execution_count": 1,
   "metadata": {
    "id": "-rdpdWJIchMK"
   },
   "outputs": [],
   "source": [
    "# Hashtag denotes a comment"
   ]
  },
  {
   "cell_type": "markdown",
   "metadata": {
    "id": "ZSA54KPbchML"
   },
   "source": [
    "**In Python, variable names:**\n",
    "\n",
    "- can include letters, digits, and underscores\n",
    "- cannot start with a digit\n",
    "- are case sensitive\n",
    "\n",
    "This means that, for example:\n",
    "- `weight0` is a valid variable name, whereas `0weight` is not\n",
    "- `weight` and `Weight` are different variables"
   ]
  },
  {
   "cell_type": "code",
   "execution_count": 2,
   "metadata": {
    "id": "TwCqJjDTchML"
   },
   "outputs": [
    {
     "name": "stdout",
     "output_type": "stream",
     "text": [
      "132.0 60\n"
     ]
    }
   ],
   "source": [
    "# [1]:\n",
    "weight_kg = 60\n",
    "weight_lb = 2.2 * weight_kg\n",
    "print(weight_lb, weight_kg)"
   ]
  },
  {
   "cell_type": "markdown",
   "metadata": {
    "id": "jL0cHSpFchMM"
   },
   "source": [
    "**Variables only change value when something is assigned to them.**\n",
    "\n",
    "If we make one cell in a spreadsheet depend on another, and update the latter, the former updates automatically.\n",
    "This does not happen in programming languages."
   ]
  },
  {
   "cell_type": "code",
   "execution_count": 3,
   "metadata": {
    "id": "5tVu2XNKchMM"
   },
   "outputs": [
    {
     "name": "stdout",
     "output_type": "stream",
     "text": [
      "132.0 70\n"
     ]
    }
   ],
   "source": [
    "# [2]:\n",
    "weight_kg = 70\n",
    "print(weight_lb, weight_kg)"
   ]
  },
  {
   "cell_type": "markdown",
   "metadata": {
    "id": "eNYGmzlKchMN"
   },
   "source": [
    "### Data types are:\n",
    "- integer numbers\n",
    "- floating point numbers, and\n",
    "- strings (text)"
   ]
  },
  {
   "cell_type": "code",
   "execution_count": 4,
   "metadata": {
    "id": "iogohffFchMN"
   },
   "outputs": [
    {
     "data": {
      "text/plain": [
       "float"
      ]
     },
     "execution_count": 4,
     "metadata": {},
     "output_type": "execute_result"
    }
   ],
   "source": [
    "# [3]:\n",
    "weight_kg = 60.3\n",
    "type(weight_kg)"
   ]
  },
  {
   "cell_type": "code",
   "execution_count": 5,
   "metadata": {
    "id": "ReqW0ghfchMO"
   },
   "outputs": [
    {
     "data": {
      "text/plain": [
       "str"
      ]
     },
     "execution_count": 5,
     "metadata": {},
     "output_type": "execute_result"
    }
   ],
   "source": [
    "# [4]:\n",
    "weight_kg = '60.3'\n",
    "type(weight_kg)"
   ]
  },
  {
   "cell_type": "markdown",
   "metadata": {
    "id": "0v4rvAD1chMO"
   },
   "source": [
    "**Need help?**"
   ]
  },
  {
   "cell_type": "code",
   "execution_count": 6,
   "metadata": {
    "id": "s7fToFaUchMP"
   },
   "outputs": [],
   "source": [
    "# [5]:\n",
    "#help(print)\n",
    "#?print"
   ]
  },
  {
   "cell_type": "code",
   "execution_count": 7,
   "metadata": {
    "id": "xz7rguYhchMP"
   },
   "outputs": [
    {
     "name": "stdout",
     "output_type": "stream",
     "text": [
      "132.0\n"
     ]
    }
   ],
   "source": [
    "# [6]:\n",
    "# Conversion tools are built in\n",
    "#weight_lb = 2.2 * weight_kg\n",
    "#weight_lb = 2.2 * float(weight_kg)\n",
    "print(weight_lb)\n"
   ]
  },
  {
   "cell_type": "markdown",
   "metadata": {
    "id": "wC5Fxs-echMP"
   },
   "source": [
    "<div class=\"alert alert-block alert-info\">\n",
    "<ul><li>Basic data types in Python include integers, strings, and floating-point numbers.</li>\n",
    "<li>Use `variable = value` to assign a value to a variable in order to record it in memory.</li>\n",
    "<li>Use `print(something)` to display the value of something.</li>\n",
    "<li>Must convert numbers to strings or float and int when operating on them.</li>\n",
    "<li>Variables only change value when something is assigned to them.</li></ul>\n",
    "    </div>"
   ]
  },
  {
   "cell_type": "markdown",
   "metadata": {
    "id": "EcnBrtUIchMQ",
    "papermill": {
     "duration": 0.023749,
     "end_time": "2021-01-28T05:37:47.070093",
     "exception": false,
     "start_time": "2021-01-28T05:37:47.046344",
     "status": "completed"
    },
    "tags": []
   },
   "source": [
    "***\n",
    "\n",
    "## Our Challenge: Analyze Amazon Top 50 Bestselling Books 📗\n",
    "* Amazon.com is one of the largest online marketplace and many people around the world purchase products.\n",
    "* In this notebook, we observe the data about top 50 bestselling books from 2009 to 2019 on Amazon.\n",
    "* [Amazon Top 50 Bestselling Books 2009 - 2019](https://www.kaggle.com/sootersaalu/amazon-top-50-bestselling-books-2009-2019) (Kaggle.com)\n",
    "\n",
    "![](https://github.com/DeisData/seaborn/blob/main/ses1diagram.png?raw=true)\n"
   ]
  },
  {
   "cell_type": "markdown",
   "metadata": {
    "id": "ixDIgJvLchMQ"
   },
   "source": [
    "### 1.  Load libraries. <a class=\"anchor\" id=\"bullet2\"></a>\n",
    "Think of these as useful powerful toolboxes we are opening up on our workbench. Many additional libraries are available from the Python Package Index.\n",
    "- [numpy](https://numpy.org) - adding support for large, multi-dimensional arrays and matrices, and mathematical functions for arrays.\n",
    "- [pandas](https://pandas.pydata.org/) - offers data structures and operations for manipulating numerical tables and time series.\n",
    "- [matplotlib](https://matplotlib.org/) - the most widely used scientific plotting library in Python.\n",
    "- [seaborn](https://seaborn.pydata.org/) - for drawing attractive and informative statistical graphics."
   ]
  },
  {
   "cell_type": "code",
   "execution_count": 8,
   "metadata": {
    "id": "DJhAqDgochMQ"
   },
   "outputs": [],
   "source": [
    "# [7]:\n",
    "import numpy as np\n",
    "import pandas as pd\n",
    "\n",
    "# Libraris for plotting\n",
    "import matplotlib.pyplot as plt\n",
    "import seaborn as sns\n",
    "\n",
    "# Library for hypothesis testing\n",
    "from scipy import stats\n",
    "\n",
    "# Library for regression modeling\n",
    "import statsmodels as sm\n",
    "from statsmodels.formula.api import ols"
   ]
  },
  {
   "cell_type": "markdown",
   "metadata": {
    "id": "dEAA5aFgchMR"
   },
   "source": [
    "### 2. Load data.<a class=\"anchor\" id=\"bullet3\"></a>\n",
    "Loads a copy of the data into our environment.  Unlike working with a spreadsheet, it does not affect the original file.\n",
    "\n",
    "Read a Comma Separated Values (CSV) data file with `pd.read_csv()`. *[Need to read in a different file type?](https://realpython.com/pandas-read-write-files/)*\n",
    "- Argument is the name of the file to be read.\n",
    "- Assign result to a variable to store the data that was read."
   ]
  },
  {
   "cell_type": "code",
   "execution_count": 9,
   "metadata": {
    "id": "2Fs8aBcRchMR"
   },
   "outputs": [],
   "source": [
    "# [8]:\n",
    "url = \"https://raw.githubusercontent.com/DeisData/pystats/main/bestsellers_with_categories.csv\"\n",
    "books = pd.read_csv(url)"
   ]
  },
  {
   "cell_type": "markdown",
   "metadata": {
    "_cell_guid": "b1076dfc-b9ad-4769-8c92-a6c4dae69d19",
    "_kg_hide-input": true,
    "_kg_hide-output": true,
    "_uuid": "8f2839f25d086af736a60e9eeb907d3b93b6e0e5",
    "execution": {
     "iopub.execute_input": "2021-01-28T05:37:47.120487Z",
     "iopub.status.busy": "2021-01-28T05:37:47.119758Z",
     "iopub.status.idle": "2021-01-28T05:37:47.132354Z",
     "shell.execute_reply": "2021-01-28T05:37:47.132887Z"
    },
    "id": "Kf1akhKzchMR",
    "papermill": {
     "duration": 0.041045,
     "end_time": "2021-01-28T05:37:47.133055",
     "exception": false,
     "start_time": "2021-01-28T05:37:47.092010",
     "status": "completed"
    },
    "tags": []
   },
   "source": [
    "### 3. Inspect the data table <a class=\"anchor\" id=\"bullet4\"></a>\n",
    "There are lots of functions and methods we can apply to the dataframe to start inspecting it."
   ]
  },
  {
   "cell_type": "markdown",
   "metadata": {
    "id": "CwRbH2C_chMS"
   },
   "source": [
    "<div class=\"alert alert-block alert-info\">Functions attached to objects are called methods.  They are common in pandas.  Methods have parentheses like functions, but come after the variable.\n",
    "</div>"
   ]
  },
  {
   "cell_type": "code",
   "execution_count": 10,
   "metadata": {
    "colab": {
     "base_uri": "https://localhost:8080/"
    },
    "id": "VH3y_4qbchMS",
    "outputId": "8fa2b409-9aa9-456c-b1f1-10656a9d26b2"
   },
   "outputs": [
    {
     "name": "stdout",
     "output_type": "stream",
     "text": [
      "                                                  Name  \\\n",
      "0                        10-Day Green Smoothie Cleanse   \n",
      "1                                    11/22/63: A Novel   \n",
      "2              12 Rules for Life: An Antidote to Chaos   \n",
      "3                               1984 (Signet Classics)   \n",
      "4    5,000 Awesome Facts (About Everything!) (Natio...   \n",
      "..                                                 ...   \n",
      "545       Wrecking Ball (Diary of a Wimpy Kid Book 14)   \n",
      "546  You Are a Badass: How to Stop Doubting Your Gr...   \n",
      "547  You Are a Badass: How to Stop Doubting Your Gr...   \n",
      "548  You Are a Badass: How to Stop Doubting Your Gr...   \n",
      "549  You Are a Badass: How to Stop Doubting Your Gr...   \n",
      "\n",
      "                       Author  User Rating  Reviews  Price  Year        Genre  \n",
      "0                    JJ Smith          4.7    17350      8  2016  Non Fiction  \n",
      "1                Stephen King          4.6     2052     22  2011      Fiction  \n",
      "2          Jordan B. Peterson          4.7    18979     15  2018  Non Fiction  \n",
      "3               George Orwell          4.7    21424      6  2017      Fiction  \n",
      "4    National Geographic Kids          4.8     7665     12  2019  Non Fiction  \n",
      "..                        ...          ...      ...    ...   ...          ...  \n",
      "545               Jeff Kinney          4.9     9413      8  2019      Fiction  \n",
      "546               Jen Sincero          4.7    14331      8  2016  Non Fiction  \n",
      "547               Jen Sincero          4.7    14331      8  2017  Non Fiction  \n",
      "548               Jen Sincero          4.7    14331      8  2018  Non Fiction  \n",
      "549               Jen Sincero          4.7    14331      8  2019  Non Fiction  \n",
      "\n",
      "[550 rows x 7 columns]\n"
     ]
    }
   ],
   "source": [
    "# [9]:\n",
    "# Function to print a view of the data\n",
    "print(books)"
   ]
  },
  {
   "cell_type": "code",
   "execution_count": 11,
   "metadata": {
    "id": "pzNUg9PmchMS"
   },
   "outputs": [
    {
     "data": {
      "text/html": [
       "<div>\n",
       "<style scoped>\n",
       "    .dataframe tbody tr th:only-of-type {\n",
       "        vertical-align: middle;\n",
       "    }\n",
       "\n",
       "    .dataframe tbody tr th {\n",
       "        vertical-align: top;\n",
       "    }\n",
       "\n",
       "    .dataframe thead th {\n",
       "        text-align: right;\n",
       "    }\n",
       "</style>\n",
       "<table border=\"1\" class=\"dataframe\">\n",
       "  <thead>\n",
       "    <tr style=\"text-align: right;\">\n",
       "      <th></th>\n",
       "      <th>Name</th>\n",
       "      <th>Author</th>\n",
       "      <th>User Rating</th>\n",
       "      <th>Reviews</th>\n",
       "      <th>Price</th>\n",
       "      <th>Year</th>\n",
       "      <th>Genre</th>\n",
       "    </tr>\n",
       "  </thead>\n",
       "  <tbody>\n",
       "    <tr>\n",
       "      <th>0</th>\n",
       "      <td>10-Day Green Smoothie Cleanse</td>\n",
       "      <td>JJ Smith</td>\n",
       "      <td>4.7</td>\n",
       "      <td>17350</td>\n",
       "      <td>8</td>\n",
       "      <td>2016</td>\n",
       "      <td>Non Fiction</td>\n",
       "    </tr>\n",
       "    <tr>\n",
       "      <th>1</th>\n",
       "      <td>11/22/63: A Novel</td>\n",
       "      <td>Stephen King</td>\n",
       "      <td>4.6</td>\n",
       "      <td>2052</td>\n",
       "      <td>22</td>\n",
       "      <td>2011</td>\n",
       "      <td>Fiction</td>\n",
       "    </tr>\n",
       "    <tr>\n",
       "      <th>2</th>\n",
       "      <td>12 Rules for Life: An Antidote to Chaos</td>\n",
       "      <td>Jordan B. Peterson</td>\n",
       "      <td>4.7</td>\n",
       "      <td>18979</td>\n",
       "      <td>15</td>\n",
       "      <td>2018</td>\n",
       "      <td>Non Fiction</td>\n",
       "    </tr>\n",
       "    <tr>\n",
       "      <th>3</th>\n",
       "      <td>1984 (Signet Classics)</td>\n",
       "      <td>George Orwell</td>\n",
       "      <td>4.7</td>\n",
       "      <td>21424</td>\n",
       "      <td>6</td>\n",
       "      <td>2017</td>\n",
       "      <td>Fiction</td>\n",
       "    </tr>\n",
       "    <tr>\n",
       "      <th>4</th>\n",
       "      <td>5,000 Awesome Facts (About Everything!) (Natio...</td>\n",
       "      <td>National Geographic Kids</td>\n",
       "      <td>4.8</td>\n",
       "      <td>7665</td>\n",
       "      <td>12</td>\n",
       "      <td>2019</td>\n",
       "      <td>Non Fiction</td>\n",
       "    </tr>\n",
       "  </tbody>\n",
       "</table>\n",
       "</div>"
      ],
      "text/plain": [
       "                                                Name  \\\n",
       "0                      10-Day Green Smoothie Cleanse   \n",
       "1                                  11/22/63: A Novel   \n",
       "2            12 Rules for Life: An Antidote to Chaos   \n",
       "3                             1984 (Signet Classics)   \n",
       "4  5,000 Awesome Facts (About Everything!) (Natio...   \n",
       "\n",
       "                     Author  User Rating  Reviews  Price  Year        Genre  \n",
       "0                  JJ Smith          4.7    17350      8  2016  Non Fiction  \n",
       "1              Stephen King          4.6     2052     22  2011      Fiction  \n",
       "2        Jordan B. Peterson          4.7    18979     15  2018  Non Fiction  \n",
       "3             George Orwell          4.7    21424      6  2017      Fiction  \n",
       "4  National Geographic Kids          4.8     7665     12  2019  Non Fiction  "
      ]
     },
     "execution_count": 11,
     "metadata": {},
     "output_type": "execute_result"
    }
   ],
   "source": [
    "# [10]:\n",
    "# Method to view head of dataset\n",
    "books.head()"
   ]
  },
  {
   "cell_type": "code",
   "execution_count": 12,
   "metadata": {
    "_kg_hide-input": true,
    "execution": {
     "iopub.execute_input": "2021-01-28T05:37:47.183202Z",
     "iopub.status.busy": "2021-01-28T05:37:47.182562Z",
     "iopub.status.idle": "2021-01-28T05:37:48.280441Z",
     "shell.execute_reply": "2021-01-28T05:37:48.279767Z"
    },
    "id": "8VNcUdDDchMS",
    "papermill": {
     "duration": 1.124849,
     "end_time": "2021-01-28T05:37:48.280561",
     "exception": false,
     "start_time": "2021-01-28T05:37:47.155712",
     "status": "completed"
    },
    "tags": []
   },
   "outputs": [
    {
     "data": {
      "text/html": [
       "<div>\n",
       "<style scoped>\n",
       "    .dataframe tbody tr th:only-of-type {\n",
       "        vertical-align: middle;\n",
       "    }\n",
       "\n",
       "    .dataframe tbody tr th {\n",
       "        vertical-align: top;\n",
       "    }\n",
       "\n",
       "    .dataframe thead th {\n",
       "        text-align: right;\n",
       "    }\n",
       "</style>\n",
       "<table border=\"1\" class=\"dataframe\">\n",
       "  <thead>\n",
       "    <tr style=\"text-align: right;\">\n",
       "      <th></th>\n",
       "      <th>Name</th>\n",
       "      <th>Author</th>\n",
       "      <th>User Rating</th>\n",
       "      <th>Reviews</th>\n",
       "      <th>Price</th>\n",
       "      <th>Year</th>\n",
       "      <th>Genre</th>\n",
       "    </tr>\n",
       "  </thead>\n",
       "  <tbody>\n",
       "    <tr>\n",
       "      <th>545</th>\n",
       "      <td>Wrecking Ball (Diary of a Wimpy Kid Book 14)</td>\n",
       "      <td>Jeff Kinney</td>\n",
       "      <td>4.9</td>\n",
       "      <td>9413</td>\n",
       "      <td>8</td>\n",
       "      <td>2019</td>\n",
       "      <td>Fiction</td>\n",
       "    </tr>\n",
       "    <tr>\n",
       "      <th>546</th>\n",
       "      <td>You Are a Badass: How to Stop Doubting Your Gr...</td>\n",
       "      <td>Jen Sincero</td>\n",
       "      <td>4.7</td>\n",
       "      <td>14331</td>\n",
       "      <td>8</td>\n",
       "      <td>2016</td>\n",
       "      <td>Non Fiction</td>\n",
       "    </tr>\n",
       "    <tr>\n",
       "      <th>547</th>\n",
       "      <td>You Are a Badass: How to Stop Doubting Your Gr...</td>\n",
       "      <td>Jen Sincero</td>\n",
       "      <td>4.7</td>\n",
       "      <td>14331</td>\n",
       "      <td>8</td>\n",
       "      <td>2017</td>\n",
       "      <td>Non Fiction</td>\n",
       "    </tr>\n",
       "    <tr>\n",
       "      <th>548</th>\n",
       "      <td>You Are a Badass: How to Stop Doubting Your Gr...</td>\n",
       "      <td>Jen Sincero</td>\n",
       "      <td>4.7</td>\n",
       "      <td>14331</td>\n",
       "      <td>8</td>\n",
       "      <td>2018</td>\n",
       "      <td>Non Fiction</td>\n",
       "    </tr>\n",
       "    <tr>\n",
       "      <th>549</th>\n",
       "      <td>You Are a Badass: How to Stop Doubting Your Gr...</td>\n",
       "      <td>Jen Sincero</td>\n",
       "      <td>4.7</td>\n",
       "      <td>14331</td>\n",
       "      <td>8</td>\n",
       "      <td>2019</td>\n",
       "      <td>Non Fiction</td>\n",
       "    </tr>\n",
       "  </tbody>\n",
       "</table>\n",
       "</div>"
      ],
      "text/plain": [
       "                                                  Name       Author  \\\n",
       "545       Wrecking Ball (Diary of a Wimpy Kid Book 14)  Jeff Kinney   \n",
       "546  You Are a Badass: How to Stop Doubting Your Gr...  Jen Sincero   \n",
       "547  You Are a Badass: How to Stop Doubting Your Gr...  Jen Sincero   \n",
       "548  You Are a Badass: How to Stop Doubting Your Gr...  Jen Sincero   \n",
       "549  You Are a Badass: How to Stop Doubting Your Gr...  Jen Sincero   \n",
       "\n",
       "     User Rating  Reviews  Price  Year        Genre  \n",
       "545          4.9     9413      8  2019      Fiction  \n",
       "546          4.7    14331      8  2016  Non Fiction  \n",
       "547          4.7    14331      8  2017  Non Fiction  \n",
       "548          4.7    14331      8  2018  Non Fiction  \n",
       "549          4.7    14331      8  2019  Non Fiction  "
      ]
     },
     "execution_count": 12,
     "metadata": {},
     "output_type": "execute_result"
    }
   ],
   "source": [
    "# [11]:\n",
    "# Method to see the tail end of the data\n",
    "books.tail()"
   ]
  },
  {
   "cell_type": "code",
   "execution_count": 13,
   "metadata": {
    "id": "W-FQAJPLchMS"
   },
   "outputs": [
    {
     "name": "stdout",
     "output_type": "stream",
     "text": [
      "<class 'pandas.core.frame.DataFrame'>\n",
      "RangeIndex: 550 entries, 0 to 549\n",
      "Data columns (total 7 columns):\n",
      " #   Column       Non-Null Count  Dtype  \n",
      "---  ------       --------------  -----  \n",
      " 0   Name         550 non-null    object \n",
      " 1   Author       550 non-null    object \n",
      " 2   User Rating  550 non-null    float64\n",
      " 3   Reviews      550 non-null    int64  \n",
      " 4   Price        550 non-null    int64  \n",
      " 5   Year         550 non-null    int64  \n",
      " 6   Genre        550 non-null    object \n",
      "dtypes: float64(1), int64(3), object(3)\n",
      "memory usage: 30.2+ KB\n"
     ]
    }
   ],
   "source": [
    "# [12]:\n",
    "# Use the DataFrame.info() method to find out more about a dataframe.\n",
    "books.info()"
   ]
  },
  {
   "cell_type": "code",
   "execution_count": 14,
   "metadata": {
    "id": "kshWtFgLchMT"
   },
   "outputs": [
    {
     "data": {
      "text/plain": [
       "(550, 7)"
      ]
     },
     "execution_count": 14,
     "metadata": {},
     "output_type": "execute_result"
    }
   ],
   "source": [
    "# [13]:\n",
    "# Get Dimensions (rows, columns)\n",
    "books.shape"
   ]
  },
  {
   "cell_type": "code",
   "execution_count": 15,
   "metadata": {
    "id": "2UwRfnjvchMT"
   },
   "outputs": [
    {
     "data": {
      "text/plain": [
       "Name            object\n",
       "Author          object\n",
       "User Rating    float64\n",
       "Reviews          int64\n",
       "Price            int64\n",
       "Year             int64\n",
       "Genre           object\n",
       "dtype: object"
      ]
     },
     "execution_count": 15,
     "metadata": {},
     "output_type": "execute_result"
    }
   ],
   "source": [
    "# [14]:\n",
    "# Get data types\n",
    "books.dtypes"
   ]
  },
  {
   "cell_type": "code",
   "execution_count": 16,
   "metadata": {
    "id": "ix0TV-vCchMT"
   },
   "outputs": [
    {
     "data": {
      "text/html": [
       "<div>\n",
       "<style scoped>\n",
       "    .dataframe tbody tr th:only-of-type {\n",
       "        vertical-align: middle;\n",
       "    }\n",
       "\n",
       "    .dataframe tbody tr th {\n",
       "        vertical-align: top;\n",
       "    }\n",
       "\n",
       "    .dataframe thead th {\n",
       "        text-align: right;\n",
       "    }\n",
       "</style>\n",
       "<table border=\"1\" class=\"dataframe\">\n",
       "  <thead>\n",
       "    <tr style=\"text-align: right;\">\n",
       "      <th></th>\n",
       "      <th>User Rating</th>\n",
       "      <th>Reviews</th>\n",
       "      <th>Price</th>\n",
       "      <th>Year</th>\n",
       "    </tr>\n",
       "  </thead>\n",
       "  <tbody>\n",
       "    <tr>\n",
       "      <th>count</th>\n",
       "      <td>550.000000</td>\n",
       "      <td>550.000000</td>\n",
       "      <td>550.000000</td>\n",
       "      <td>550.000000</td>\n",
       "    </tr>\n",
       "    <tr>\n",
       "      <th>mean</th>\n",
       "      <td>4.618364</td>\n",
       "      <td>11953.281818</td>\n",
       "      <td>13.100000</td>\n",
       "      <td>2014.000000</td>\n",
       "    </tr>\n",
       "    <tr>\n",
       "      <th>std</th>\n",
       "      <td>0.226980</td>\n",
       "      <td>11731.132017</td>\n",
       "      <td>10.842262</td>\n",
       "      <td>3.165156</td>\n",
       "    </tr>\n",
       "    <tr>\n",
       "      <th>min</th>\n",
       "      <td>3.300000</td>\n",
       "      <td>37.000000</td>\n",
       "      <td>0.000000</td>\n",
       "      <td>2009.000000</td>\n",
       "    </tr>\n",
       "    <tr>\n",
       "      <th>25%</th>\n",
       "      <td>4.500000</td>\n",
       "      <td>4058.000000</td>\n",
       "      <td>7.000000</td>\n",
       "      <td>2011.000000</td>\n",
       "    </tr>\n",
       "    <tr>\n",
       "      <th>50%</th>\n",
       "      <td>4.700000</td>\n",
       "      <td>8580.000000</td>\n",
       "      <td>11.000000</td>\n",
       "      <td>2014.000000</td>\n",
       "    </tr>\n",
       "    <tr>\n",
       "      <th>75%</th>\n",
       "      <td>4.800000</td>\n",
       "      <td>17253.250000</td>\n",
       "      <td>16.000000</td>\n",
       "      <td>2017.000000</td>\n",
       "    </tr>\n",
       "    <tr>\n",
       "      <th>max</th>\n",
       "      <td>4.900000</td>\n",
       "      <td>87841.000000</td>\n",
       "      <td>105.000000</td>\n",
       "      <td>2019.000000</td>\n",
       "    </tr>\n",
       "  </tbody>\n",
       "</table>\n",
       "</div>"
      ],
      "text/plain": [
       "       User Rating       Reviews       Price         Year\n",
       "count   550.000000    550.000000  550.000000   550.000000\n",
       "mean      4.618364  11953.281818   13.100000  2014.000000\n",
       "std       0.226980  11731.132017   10.842262     3.165156\n",
       "min       3.300000     37.000000    0.000000  2009.000000\n",
       "25%       4.500000   4058.000000    7.000000  2011.000000\n",
       "50%       4.700000   8580.000000   11.000000  2014.000000\n",
       "75%       4.800000  17253.250000   16.000000  2017.000000\n",
       "max       4.900000  87841.000000  105.000000  2019.000000"
      ]
     },
     "execution_count": 16,
     "metadata": {},
     "output_type": "execute_result"
    }
   ],
   "source": [
    "# [15]:\n",
    "# Use DataFrame.describe() to get summary statistics about data.\n",
    "books.describe()"
   ]
  },
  {
   "cell_type": "code",
   "execution_count": 17,
   "metadata": {
    "id": "-kDhxG64chMT"
   },
   "outputs": [
    {
     "data": {
      "text/plain": [
       "Index(['Name', 'Author', 'User Rating', 'Reviews', 'Price', 'Year', 'Genre'], dtype='object')"
      ]
     },
     "execution_count": 17,
     "metadata": {},
     "output_type": "execute_result"
    }
   ],
   "source": [
    "# [16]:\n",
    "# The DataFrame.columns variable stores information about the dataframe’s columns.\n",
    "books.columns"
   ]
  },
  {
   "cell_type": "markdown",
   "metadata": {
    "id": "yIm2wcdJchMT"
   },
   "source": [
    "<div class=\"alert alert-block alert-warning\">\n",
    "We have a problem with our data column names!\n",
    "    \n",
    "Let's loop through them and make each column name follow variable name best practices.\n",
    "</div>"
   ]
  },
  {
   "cell_type": "markdown",
   "metadata": {
    "id": "h3pF8QD-chMT"
   },
   "source": [
    "####  Looping\n",
    "A for loop executes commands once for each value in a collection.\n",
    "- “for each thing in this group, do these operations”\n",
    "- A for loop is made up of a collection, a loop variable, and a body.\n",
    "\n",
    "##### Loop Sandbox:"
   ]
  },
  {
   "cell_type": "code",
   "execution_count": 18,
   "metadata": {
    "id": "uEKE8Yy4chMU"
   },
   "outputs": [
    {
     "name": "stdout",
     "output_type": "stream",
     "text": [
      "10\n",
      "15\n",
      "25\n"
     ]
    }
   ],
   "source": [
    "# [17]:\n",
    "# General format of a loop\n",
    "for number in [2, 3, 5]:\n",
    "    print(number*5)"
   ]
  },
  {
   "cell_type": "code",
   "execution_count": 19,
   "metadata": {
    "id": "vWzHZq30chMU"
   },
   "outputs": [
    {
     "name": "stdout",
     "output_type": "stream",
     "text": [
      "name\n",
      "author\n",
      "user_rating\n",
      "reviews\n",
      "price\n",
      "year\n",
      "genre\n"
     ]
    }
   ],
   "source": [
    "# [18]:\n",
    "# Application of a loop to fix DataFrame column names:\n",
    "\n",
    "#1. Save DataFrame.column names to an object to be our loop collection\n",
    "cols = books.columns\n",
    "\n",
    "#2. Initialize some \"empty storage\" for corrected column names\n",
    "new_column_names = []\n",
    "\n",
    "#3. Loop through collection of column names\n",
    "for col in cols:\n",
    "\n",
    "    # strip beginning and ending spaces\n",
    "    new_col = col.lstrip().rstrip()\n",
    "    # make names lower case    \n",
    "    new_col = new_col.lower()\n",
    "    # replace spaces with underscores\n",
    "    new_col = new_col.replace(\" \",\"_\")\n",
    "    \n",
    "    print(new_col)\n",
    "\n",
    "    # append each new column name to the new object of corrected names\n",
    "    new_column_names.append(new_col)\n",
    "\n",
    "# End of indention is end of loop body\n",
    "\n",
    "# Assign new column names to DataFrame\n",
    "books.columns = new_column_names\n"
   ]
  },
  {
   "cell_type": "code",
   "execution_count": 20,
   "metadata": {
    "id": "NwXfbhIFchMU"
   },
   "outputs": [
    {
     "data": {
      "text/html": [
       "<div>\n",
       "<style scoped>\n",
       "    .dataframe tbody tr th:only-of-type {\n",
       "        vertical-align: middle;\n",
       "    }\n",
       "\n",
       "    .dataframe tbody tr th {\n",
       "        vertical-align: top;\n",
       "    }\n",
       "\n",
       "    .dataframe thead th {\n",
       "        text-align: right;\n",
       "    }\n",
       "</style>\n",
       "<table border=\"1\" class=\"dataframe\">\n",
       "  <thead>\n",
       "    <tr style=\"text-align: right;\">\n",
       "      <th></th>\n",
       "      <th>name</th>\n",
       "      <th>author</th>\n",
       "      <th>user_rating</th>\n",
       "      <th>reviews</th>\n",
       "      <th>price</th>\n",
       "      <th>year</th>\n",
       "      <th>genre</th>\n",
       "    </tr>\n",
       "  </thead>\n",
       "  <tbody>\n",
       "    <tr>\n",
       "      <th>0</th>\n",
       "      <td>10-Day Green Smoothie Cleanse</td>\n",
       "      <td>JJ Smith</td>\n",
       "      <td>4.7</td>\n",
       "      <td>17350</td>\n",
       "      <td>8</td>\n",
       "      <td>2016</td>\n",
       "      <td>Non Fiction</td>\n",
       "    </tr>\n",
       "    <tr>\n",
       "      <th>1</th>\n",
       "      <td>11/22/63: A Novel</td>\n",
       "      <td>Stephen King</td>\n",
       "      <td>4.6</td>\n",
       "      <td>2052</td>\n",
       "      <td>22</td>\n",
       "      <td>2011</td>\n",
       "      <td>Fiction</td>\n",
       "    </tr>\n",
       "    <tr>\n",
       "      <th>2</th>\n",
       "      <td>12 Rules for Life: An Antidote to Chaos</td>\n",
       "      <td>Jordan B. Peterson</td>\n",
       "      <td>4.7</td>\n",
       "      <td>18979</td>\n",
       "      <td>15</td>\n",
       "      <td>2018</td>\n",
       "      <td>Non Fiction</td>\n",
       "    </tr>\n",
       "    <tr>\n",
       "      <th>3</th>\n",
       "      <td>1984 (Signet Classics)</td>\n",
       "      <td>George Orwell</td>\n",
       "      <td>4.7</td>\n",
       "      <td>21424</td>\n",
       "      <td>6</td>\n",
       "      <td>2017</td>\n",
       "      <td>Fiction</td>\n",
       "    </tr>\n",
       "    <tr>\n",
       "      <th>4</th>\n",
       "      <td>5,000 Awesome Facts (About Everything!) (Natio...</td>\n",
       "      <td>National Geographic Kids</td>\n",
       "      <td>4.8</td>\n",
       "      <td>7665</td>\n",
       "      <td>12</td>\n",
       "      <td>2019</td>\n",
       "      <td>Non Fiction</td>\n",
       "    </tr>\n",
       "  </tbody>\n",
       "</table>\n",
       "</div>"
      ],
      "text/plain": [
       "                                                name  \\\n",
       "0                      10-Day Green Smoothie Cleanse   \n",
       "1                                  11/22/63: A Novel   \n",
       "2            12 Rules for Life: An Antidote to Chaos   \n",
       "3                             1984 (Signet Classics)   \n",
       "4  5,000 Awesome Facts (About Everything!) (Natio...   \n",
       "\n",
       "                     author  user_rating  reviews  price  year        genre  \n",
       "0                  JJ Smith          4.7    17350      8  2016  Non Fiction  \n",
       "1              Stephen King          4.6     2052     22  2011      Fiction  \n",
       "2        Jordan B. Peterson          4.7    18979     15  2018  Non Fiction  \n",
       "3             George Orwell          4.7    21424      6  2017      Fiction  \n",
       "4  National Geographic Kids          4.8     7665     12  2019  Non Fiction  "
      ]
     },
     "execution_count": 20,
     "metadata": {},
     "output_type": "execute_result"
    }
   ],
   "source": [
    "# [19]:\n",
    "# Let's check the results!\n",
    "books.head()"
   ]
  },
  {
   "cell_type": "markdown",
   "metadata": {
    "id": "Dq62u42gchMV"
   },
   "source": [
    "*Tip:*  Need to loop through a set of files?  Check out the [`glob` library](https://www.geeksforgeeks.org/how-to-use-glob-function-to-find-files-recursively-in-python/). "
   ]
  },
  {
   "cell_type": "markdown",
   "metadata": {
    "id": "9xMcUBGgchMV"
   },
   "source": [
    "<div class=\"alert alert-block alert-info\">\n",
    "    <ul><li>Use the Pandas library to get basic statistics out of tabular data.</li>\n",
    "\n",
    "<li>Use `index_col` to specify that a column’s values should be used as row headings.</li>\n",
    "\n",
    "<li>Use `DataFrame.info` to find out more about a dataframe.</li>\n",
    "\n",
    "<li>The `DataFrame.columns` variable stores information about the dataframe’s columns.</li>\n",
    "\n",
    "<li>Use `DataFrame.T` to transpose a dataframe.</li>\n",
    "\n",
    "<li>Use `DataFrame.describe` to get summary statistics about data.</li></ul>\n",
    "</div>"
   ]
  },
  {
   "cell_type": "markdown",
   "metadata": {
    "id": "HAW2KXUhchMV",
    "papermill": {
     "duration": 0.021449,
     "end_time": "2021-01-28T05:37:48.324144",
     "exception": false,
     "start_time": "2021-01-28T05:37:48.302695",
     "status": "completed"
    },
    "tags": []
   },
   "source": [
    "### 4. Access parts of the dataframe <a class=\"anchor\" id=\"bullet5\"></a>\n",
    "To access a value at the position `[i,j]` of a DataFrame, we have two options:\n",
    "- Use `DataFrame.iloc[..., ...]` to select values by their (entry) position.  Position indexing starts at `0`.\n",
    "- Use `DataFrame.loc[..., ...]` to select values by their (entry) label.\n"
   ]
  },
  {
   "cell_type": "code",
   "execution_count": 21,
   "metadata": {
    "id": "97msjRsychMV"
   },
   "outputs": [
    {
     "data": {
      "text/plain": [
       "0      4.7\n",
       "1      4.6\n",
       "2      4.7\n",
       "3      4.7\n",
       "4      4.8\n",
       "      ... \n",
       "545    4.9\n",
       "546    4.7\n",
       "547    4.7\n",
       "548    4.7\n",
       "549    4.7\n",
       "Name: user_rating, Length: 550, dtype: float64"
      ]
     },
     "execution_count": 21,
     "metadata": {},
     "output_type": "execute_result"
    }
   ],
   "source": [
    "# [20]:\n",
    "# Access all the rows : , and the 'User Rating' column with .loc method\n",
    "books.loc[:, 'user_rating']"
   ]
  },
  {
   "cell_type": "code",
   "execution_count": 22,
   "metadata": {
    "id": "2Z6H3iXAchMV"
   },
   "outputs": [
    {
     "data": {
      "text/plain": [
       "0      4.7\n",
       "1      4.6\n",
       "2      4.7\n",
       "3      4.7\n",
       "4      4.8\n",
       "      ... \n",
       "545    4.9\n",
       "546    4.7\n",
       "547    4.7\n",
       "548    4.7\n",
       "549    4.7\n",
       "Name: user_rating, Length: 550, dtype: float64"
      ]
     },
     "execution_count": 22,
     "metadata": {},
     "output_type": "execute_result"
    }
   ],
   "source": [
    "# [21]:\n",
    "# Access all the rows : , and the 'User Rating' column with .iloc method\n",
    "books.iloc[:, 2]"
   ]
  },
  {
   "cell_type": "code",
   "execution_count": 23,
   "metadata": {
    "id": "Eev18wt4chMW"
   },
   "outputs": [
    {
     "data": {
      "text/plain": [
       "0      4.7\n",
       "1      4.6\n",
       "2      4.7\n",
       "3      4.7\n",
       "4      4.8\n",
       "      ... \n",
       "545    4.9\n",
       "546    4.7\n",
       "547    4.7\n",
       "548    4.7\n",
       "549    4.7\n",
       "Name: user_rating, Length: 550, dtype: float64"
      ]
     },
     "execution_count": 23,
     "metadata": {},
     "output_type": "execute_result"
    }
   ],
   "source": [
    "# [22]:\n",
    "# or more simply, DataFrame.ColumnName\n",
    "books.user_rating\n"
   ]
  },
  {
   "cell_type": "code",
   "execution_count": 24,
   "metadata": {
    "id": "Vh9tCjPfchMW"
   },
   "outputs": [
    {
     "data": {
      "text/plain": [
       "user_rating\n",
       "3.3      1\n",
       "3.6      1\n",
       "3.8      2\n",
       "3.9      3\n",
       "4.0     14\n",
       "4.1      6\n",
       "4.2      8\n",
       "4.3     25\n",
       "4.4     38\n",
       "4.5     60\n",
       "4.6    105\n",
       "4.7    108\n",
       "4.8    127\n",
       "4.9     52\n",
       "Name: user_rating, dtype: int64"
      ]
     },
     "execution_count": 24,
     "metadata": {},
     "output_type": "execute_result"
    }
   ],
   "source": [
    "# [23]:\n",
    "# Can we get a count of books per rating?\n",
    "books.user_rating.groupby(books.user_rating).count()"
   ]
  },
  {
   "cell_type": "markdown",
   "metadata": {
    "_kg_hide-input": true,
    "execution": {
     "iopub.execute_input": "2021-01-28T05:37:48.375981Z",
     "iopub.status.busy": "2021-01-28T05:37:48.375335Z",
     "iopub.status.idle": "2021-01-28T05:37:48.407629Z",
     "shell.execute_reply": "2021-01-28T05:37:48.407043Z"
    },
    "id": "E37P4-nIchMW",
    "papermill": {
     "duration": 0.059821,
     "end_time": "2021-01-28T05:37:48.407737",
     "exception": false,
     "start_time": "2021-01-28T05:37:48.347916",
     "status": "completed"
    },
    "tags": []
   },
   "source": [
    "#### Group By: split-apply-combine\n",
    "Pandas vectorizing methods and grouping operations are features that provide users much flexibility to analyse their data."
   ]
  },
  {
   "cell_type": "code",
   "execution_count": 25,
   "metadata": {
    "id": "Ui0_EbTjchMW"
   },
   "outputs": [
    {
     "data": {
      "text/plain": [
       "user_rating\n",
       "3.3       9372\n",
       "3.6      14982\n",
       "3.8      94530\n",
       "3.9      73998\n",
       "4.0     243266\n",
       "4.1     194305\n",
       "4.2      34268\n",
       "4.3     209072\n",
       "4.4     267481\n",
       "4.5     553867\n",
       "4.6     972304\n",
       "4.7    1475380\n",
       "4.8    1757694\n",
       "4.9     673786\n",
       "Name: reviews, dtype: int64"
      ]
     },
     "execution_count": 25,
     "metadata": {},
     "output_type": "execute_result"
    }
   ],
   "source": [
    "# [24]:\n",
    "# Number of reviews for each user rating level\n",
    "books.reviews.groupby(books.user_rating).sum()"
   ]
  },
  {
   "cell_type": "code",
   "execution_count": 27,
   "metadata": {
    "id": "c_c_fcRfchMW"
   },
   "outputs": [],
   "source": [
    "# [25]:\n",
    "#Let's visualize it!\n",
    "nreviews = books.reviews.groupby(books.user_rating).sum()\n",
    "# print(nreviews.columns)\n",
    "# We have an error if we ask for columns of nreviews!\n",
    "# Why? It is a 1-d \"Series\" array, not a dataframe"
   ]
  },
  {
   "cell_type": "code",
   "execution_count": 28,
   "metadata": {
    "id": "wb0yk6UCchMW"
   },
   "outputs": [
    {
     "name": "stdout",
     "output_type": "stream",
     "text": [
      "Index(['reviews'], dtype='object')\n"
     ]
    },
    {
     "data": {
      "text/html": [
       "<div>\n",
       "<style scoped>\n",
       "    .dataframe tbody tr th:only-of-type {\n",
       "        vertical-align: middle;\n",
       "    }\n",
       "\n",
       "    .dataframe tbody tr th {\n",
       "        vertical-align: top;\n",
       "    }\n",
       "\n",
       "    .dataframe thead th {\n",
       "        text-align: right;\n",
       "    }\n",
       "</style>\n",
       "<table border=\"1\" class=\"dataframe\">\n",
       "  <thead>\n",
       "    <tr style=\"text-align: right;\">\n",
       "      <th></th>\n",
       "      <th>reviews</th>\n",
       "    </tr>\n",
       "    <tr>\n",
       "      <th>user_rating</th>\n",
       "      <th></th>\n",
       "    </tr>\n",
       "  </thead>\n",
       "  <tbody>\n",
       "    <tr>\n",
       "      <th>3.3</th>\n",
       "      <td>9372</td>\n",
       "    </tr>\n",
       "    <tr>\n",
       "      <th>3.6</th>\n",
       "      <td>14982</td>\n",
       "    </tr>\n",
       "    <tr>\n",
       "      <th>3.8</th>\n",
       "      <td>94530</td>\n",
       "    </tr>\n",
       "    <tr>\n",
       "      <th>3.9</th>\n",
       "      <td>73998</td>\n",
       "    </tr>\n",
       "    <tr>\n",
       "      <th>4.0</th>\n",
       "      <td>243266</td>\n",
       "    </tr>\n",
       "  </tbody>\n",
       "</table>\n",
       "</div>"
      ],
      "text/plain": [
       "             reviews\n",
       "user_rating         \n",
       "3.3             9372\n",
       "3.6            14982\n",
       "3.8            94530\n",
       "3.9            73998\n",
       "4.0           243266"
      ]
     },
     "execution_count": 28,
     "metadata": {},
     "output_type": "execute_result"
    }
   ],
   "source": [
    "# [26]:\n",
    "# These output is a series (a 1-D array.)  We need a DataFrame to plot\n",
    "nreviews = books.reviews.groupby(books.user_rating).sum()\n",
    "# Convert to dataframe\n",
    "nreviews = nreviews.to_frame()\n",
    "\n",
    "print(nreviews.columns)\n",
    "nreviews.head()\n",
    "# Notice user_rating is the label for the index of rows.  \n",
    "# We need to treat it as a column for plotting."
   ]
  },
  {
   "cell_type": "code",
   "execution_count": 29,
   "metadata": {
    "id": "q0QeSEOwchMX"
   },
   "outputs": [
    {
     "name": "stdout",
     "output_type": "stream",
     "text": [
      "Index(['user_rating', 'reviews'], dtype='object')\n"
     ]
    },
    {
     "data": {
      "text/html": [
       "<div>\n",
       "<style scoped>\n",
       "    .dataframe tbody tr th:only-of-type {\n",
       "        vertical-align: middle;\n",
       "    }\n",
       "\n",
       "    .dataframe tbody tr th {\n",
       "        vertical-align: top;\n",
       "    }\n",
       "\n",
       "    .dataframe thead th {\n",
       "        text-align: right;\n",
       "    }\n",
       "</style>\n",
       "<table border=\"1\" class=\"dataframe\">\n",
       "  <thead>\n",
       "    <tr style=\"text-align: right;\">\n",
       "      <th></th>\n",
       "      <th>user_rating</th>\n",
       "      <th>reviews</th>\n",
       "    </tr>\n",
       "  </thead>\n",
       "  <tbody>\n",
       "    <tr>\n",
       "      <th>0</th>\n",
       "      <td>3.3</td>\n",
       "      <td>9372</td>\n",
       "    </tr>\n",
       "    <tr>\n",
       "      <th>1</th>\n",
       "      <td>3.6</td>\n",
       "      <td>14982</td>\n",
       "    </tr>\n",
       "    <tr>\n",
       "      <th>2</th>\n",
       "      <td>3.8</td>\n",
       "      <td>94530</td>\n",
       "    </tr>\n",
       "    <tr>\n",
       "      <th>3</th>\n",
       "      <td>3.9</td>\n",
       "      <td>73998</td>\n",
       "    </tr>\n",
       "    <tr>\n",
       "      <th>4</th>\n",
       "      <td>4.0</td>\n",
       "      <td>243266</td>\n",
       "    </tr>\n",
       "  </tbody>\n",
       "</table>\n",
       "</div>"
      ],
      "text/plain": [
       "   user_rating  reviews\n",
       "0          3.3     9372\n",
       "1          3.6    14982\n",
       "2          3.8    94530\n",
       "3          3.9    73998\n",
       "4          4.0   243266"
      ]
     },
     "execution_count": 29,
     "metadata": {},
     "output_type": "execute_result"
    }
   ],
   "source": [
    "# [27]:\n",
    "# Treat user_rating as a column, not the index.name of rows\n",
    "#df.index.name = 'newhead'\n",
    "nreviews.index.name = 'user_rating'\n",
    "\n",
    "#df.reset_index(inplace=True)\n",
    "nreviews.reset_index(inplace=True)\n",
    "\n",
    "print(nreviews.columns)\n",
    "nreviews.head()"
   ]
  },
  {
   "cell_type": "code",
   "execution_count": 30,
   "metadata": {
    "id": "K6Bx8g3WchMX"
   },
   "outputs": [
    {
     "data": {
      "text/plain": [
       "Text(0.5, 0, 'User Rating')"
      ]
     },
     "execution_count": 30,
     "metadata": {},
     "output_type": "execute_result"
    },
    {
     "data": {
      "image/png": "[encoded data removed]",
      "text/plain": [
       "<Figure size 432x288 with 1 Axes>"
      ]
     },
     "metadata": {
      "needs_background": "light"
     },
     "output_type": "display_data"
    }
   ],
   "source": [
    "# [28]:\n",
    "# Finally - a plot with Seaborn!\n",
    "p = sns.barplot(x=nreviews.user_rating , y= nreviews.reviews)\n",
    "p.set_ylabel(\"Reviews\")\n",
    "p.set_xlabel(\"User Rating\")"
   ]
  },
  {
   "cell_type": "markdown",
   "metadata": {
    "id": "xWJhOraPchMX"
   },
   "source": [
    "#### Use comparisons to select data based on value"
   ]
  },
  {
   "cell_type": "code",
   "execution_count": 31,
   "metadata": {
    "id": "oXY7_JYLchMX"
   },
   "outputs": [],
   "source": [
    "# [29]:\n",
    "# Let's get all the books with an above average user rating\n",
    "books_hirated = books[books.user_rating > books.user_rating.mean()]\n",
    "#print(books_hirated)"
   ]
  },
  {
   "cell_type": "markdown",
   "metadata": {
    "id": "Yg7q7rRJchMX"
   },
   "source": [
    "<div class=\"alert alert-block alert-info\">\n",
    "<ul><li>Use DataFrame.iloc[..., ...] to select values by integer location.</li>\n",
    "\n",
    "<li>Use : on its own to mean all columns or all rows.</li>\n",
    "\n",
    "<li>Select multiple columns or rows using DataFrame.loc and a named slice.</li>\n",
    "\n",
    "<li>Result of slicing can be used in further operations.</li>\n",
    "\n",
    "<li>Use comparisons to select data based on value.</li></ul></div>"
   ]
  },
  {
   "cell_type": "markdown",
   "metadata": {
    "id": "OmOpkazkchMY"
   },
   "source": [
    "*** \n",
    "\n",
    "### 5. Post-Session 1 Challenge <a class=\"anchor\" id=\"bullet6\"></a>\n",
    "\n",
    "How much would it cost us to buy all the best books (`user_rating == 4.9`)? where `==` means \"is equal to\""
   ]
  },
  {
   "cell_type": "code",
   "execution_count": 32,
   "metadata": {
    "id": "BSeypAw0chMY"
   },
   "outputs": [
    {
     "data": {
      "text/html": [
       "<div>\n",
       "<style scoped>\n",
       "    .dataframe tbody tr th:only-of-type {\n",
       "        vertical-align: middle;\n",
       "    }\n",
       "\n",
       "    .dataframe tbody tr th {\n",
       "        vertical-align: top;\n",
       "    }\n",
       "\n",
       "    .dataframe thead th {\n",
       "        text-align: right;\n",
       "    }\n",
       "</style>\n",
       "<table border=\"1\" class=\"dataframe\">\n",
       "  <thead>\n",
       "    <tr style=\"text-align: right;\">\n",
       "      <th></th>\n",
       "      <th>name</th>\n",
       "      <th>author</th>\n",
       "      <th>user_rating</th>\n",
       "      <th>reviews</th>\n",
       "      <th>price</th>\n",
       "      <th>year</th>\n",
       "      <th>genre</th>\n",
       "    </tr>\n",
       "  </thead>\n",
       "  <tbody>\n",
       "    <tr>\n",
       "      <th>40</th>\n",
       "      <td>Brown Bear, Brown Bear, What Do You See?</td>\n",
       "      <td>Bill Martin Jr.</td>\n",
       "      <td>4.9</td>\n",
       "      <td>14344</td>\n",
       "      <td>5</td>\n",
       "      <td>2017</td>\n",
       "      <td>Fiction</td>\n",
       "    </tr>\n",
       "    <tr>\n",
       "      <th>41</th>\n",
       "      <td>Brown Bear, Brown Bear, What Do You See?</td>\n",
       "      <td>Bill Martin Jr.</td>\n",
       "      <td>4.9</td>\n",
       "      <td>14344</td>\n",
       "      <td>5</td>\n",
       "      <td>2019</td>\n",
       "      <td>Fiction</td>\n",
       "    </tr>\n",
       "    <tr>\n",
       "      <th>81</th>\n",
       "      <td>Dog Man and Cat Kid: From the Creator of Capta...</td>\n",
       "      <td>Dav Pilkey</td>\n",
       "      <td>4.9</td>\n",
       "      <td>5062</td>\n",
       "      <td>6</td>\n",
       "      <td>2018</td>\n",
       "      <td>Fiction</td>\n",
       "    </tr>\n",
       "    <tr>\n",
       "      <th>82</th>\n",
       "      <td>Dog Man: A Tale of Two Kitties: From the Creat...</td>\n",
       "      <td>Dav Pilkey</td>\n",
       "      <td>4.9</td>\n",
       "      <td>4786</td>\n",
       "      <td>8</td>\n",
       "      <td>2017</td>\n",
       "      <td>Fiction</td>\n",
       "    </tr>\n",
       "    <tr>\n",
       "      <th>83</th>\n",
       "      <td>Dog Man: Brawl of the Wild: From the Creator o...</td>\n",
       "      <td>Dav Pilkey</td>\n",
       "      <td>4.9</td>\n",
       "      <td>7235</td>\n",
       "      <td>4</td>\n",
       "      <td>2018</td>\n",
       "      <td>Fiction</td>\n",
       "    </tr>\n",
       "  </tbody>\n",
       "</table>\n",
       "</div>"
      ],
      "text/plain": [
       "                                                 name           author  \\\n",
       "40           Brown Bear, Brown Bear, What Do You See?  Bill Martin Jr.   \n",
       "41           Brown Bear, Brown Bear, What Do You See?  Bill Martin Jr.   \n",
       "81  Dog Man and Cat Kid: From the Creator of Capta...       Dav Pilkey   \n",
       "82  Dog Man: A Tale of Two Kitties: From the Creat...       Dav Pilkey   \n",
       "83  Dog Man: Brawl of the Wild: From the Creator o...       Dav Pilkey   \n",
       "\n",
       "    user_rating  reviews  price  year    genre  \n",
       "40          4.9    14344      5  2017  Fiction  \n",
       "41          4.9    14344      5  2019  Fiction  \n",
       "81          4.9     5062      6  2018  Fiction  \n",
       "82          4.9     4786      8  2017  Fiction  \n",
       "83          4.9     7235      4  2018  Fiction  "
      ]
     },
     "execution_count": 32,
     "metadata": {},
     "output_type": "execute_result"
    }
   ],
   "source": [
    "# [30]:\n",
    "# Try here!  Make an object that is a data subset of the best books\n",
    "best_books = books[books.user_rating == 4.9]\n",
    "#print(best_books)\n",
    "best_books.head()"
   ]
  },
  {
   "cell_type": "markdown",
   "metadata": {
    "id": "l63yozq3chMY"
   },
   "source": [
    "- Write a loop to add up the cost of all the best books"
   ]
  },
  {
   "cell_type": "code",
   "execution_count": 33,
   "metadata": {
    "id": "ZF8EYI3QchMY"
   },
   "outputs": [
    {
     "name": "stdout",
     "output_type": "stream",
     "text": [
      "535\n"
     ]
    }
   ],
   "source": [
    "# [31]:\n",
    "# Try here!  \n",
    "# General format of a loop\n",
    "# for number in [2, 3, 5]:\n",
    "#     print(number*5)\n",
    "    \n",
    "# Initialize a sum variable, then add to it in a loop on the best book prices\n",
    "total_price = 0\n",
    "# Set up your loop:\n",
    "prices = best_books.price\n",
    "for cost in prices:\n",
    "    total_price = total_price + cost\n",
    "    # or, a shorter way:\n",
    "    #total_price += cost\n",
    "print(total_price)\n"
   ]
  },
  {
   "cell_type": "markdown",
   "metadata": {
    "id": "pqDkBAxFchMY"
   },
   "source": [
    "- What is a way you can solve this without loops?"
   ]
  },
  {
   "cell_type": "code",
   "execution_count": 34,
   "metadata": {
    "id": "tqeRYjMHchMY"
   },
   "outputs": [
    {
     "data": {
      "text/plain": [
       "535"
      ]
     },
     "execution_count": 34,
     "metadata": {},
     "output_type": "execute_result"
    }
   ],
   "source": [
    "# [32]:\n",
    "# Try here!\n",
    "best_books.price.sum()"
   ]
  },
  {
   "cell_type": "markdown",
   "metadata": {
    "id": "5meLyvD9chMY"
   },
   "source": [
    "- Use `sns.lmplot` to see what `price` versus `user_rating` looks like for the `books` dataset. [Seaborn Example](https://seaborn.pydata.org/examples/anscombes_quartet.html)"
   ]
  },
  {
   "cell_type": "code",
   "execution_count": 35,
   "metadata": {
    "id": "KW7n6xYEchMZ"
   },
   "outputs": [
    {
     "data": {
      "image/png": "[encoded data removed]",
      "text/plain": [
       "<Figure size 360x360 with 1 Axes>"
      ]
     },
     "metadata": {
      "needs_background": "light"
     },
     "output_type": "display_data"
    }
   ],
   "source": [
    "# [33]:\n",
    "# Try here!\n",
    "p = sns.lmplot(x = \"user_rating\" , y = \"price\", data = books)\n",
    "#hue=\"genre\", col=\"year\", col_wrap=3)\n",
    "p.savefig(\"price_v_userrating.png\")"
   ]
  },
  {
   "cell_type": "markdown",
   "metadata": {
    "id": "acHAmbhdchMZ",
    "papermill": {
     "duration": 0.02355,
     "end_time": "2021-01-28T05:37:50.059663",
     "exception": false,
     "start_time": "2021-01-28T05:37:50.036113",
     "status": "completed"
    },
    "tags": []
   },
   "source": [
    "***\n",
    "# Session 2 <a class=\"anchor\" id=\"bullet7\"></a>\n",
    "\n",
    "We will \n",
    "- Review our challenge from last time\n",
    "- use conditional if-elif-else statements to explore data based on value\n",
    "- practice Data Visualizations\n",
    "\n",
    "![](https://github.com/DeisData/seaborn/blob/main/ses2diagram.png?raw=true)\n",
    "\n",
    "We would like to divide the **\"Popularity\"** of books into four stages.\n",
    "\n",
    "| Popularity Level | Ratings |\n",
    "| --- | --- |\n",
    "| Extremely Popular |  　4.8 or 4.9|\n",
    "| Very Popular | 4.5 ~ 4.7|\n",
    "| Fairly Popular | 4.0 ~ 4.4|\n",
    "| Popular | 3.3 ~ 3.9|"
   ]
  },
  {
   "cell_type": "markdown",
   "metadata": {
    "_kg_hide-input": true,
    "execution": {
     "iopub.execute_input": "2021-01-28T05:37:50.114038Z",
     "iopub.status.busy": "2021-01-28T05:37:50.113398Z",
     "iopub.status.idle": "2021-01-28T05:37:50.116972Z",
     "shell.execute_reply": "2021-01-28T05:37:50.116342Z"
    },
    "id": "joKyOuLqchMZ",
    "papermill": {
     "duration": 0.033661,
     "end_time": "2021-01-28T05:37:50.117086",
     "exception": false,
     "start_time": "2021-01-28T05:37:50.083425",
     "status": "completed"
    },
    "tags": []
   },
   "source": [
    "***\n",
    "\n",
    "## *Syntax Sandbox - Conditionals* <a class=\"anchor\" id=\"bullet8\"></a>\n",
    "Conditionals are ways we can use values to decide what to do next in our analysis"
   ]
  },
  {
   "cell_type": "code",
   "execution_count": 36,
   "metadata": {},
   "outputs": [
    {
     "data": {
      "text/plain": [
       "False"
      ]
     },
     "execution_count": 36,
     "metadata": {},
     "output_type": "execute_result"
    }
   ],
   "source": [
    "# [34]:\n",
    "# Making choices with conditional statements\n",
    "num = 37\n",
    "num > 100"
   ]
  },
  {
   "cell_type": "markdown",
   "metadata": {},
   "source": [
    "We have operators for comparisons\n",
    "- `>`  greater than\n",
    "- `<`  less than\n",
    "- `==`  is equal to\n",
    "- `!=`  is not equal\n",
    "- `>=`  is greater than or equal to\n",
    "- `<=`  is less than equal to "
   ]
  },
  {
   "cell_type": "code",
   "execution_count": 37,
   "metadata": {},
   "outputs": [
    {
     "name": "stdout",
     "output_type": "stream",
     "text": [
      "is not greater\n",
      "done\n"
     ]
    }
   ],
   "source": [
    "# [35]:\n",
    "# if statement (conditional statement)\n",
    "num = 37\n",
    "if num > 100:\n",
    "    print('greater')\n",
    "else: \n",
    "    print('is not greater')\n",
    "print('done')"
   ]
  },
  {
   "cell_type": "code",
   "execution_count": 38,
   "metadata": {},
   "outputs": [
    {
     "name": "stdout",
     "output_type": "stream",
     "text": [
      "-1 is negative\n"
     ]
    }
   ],
   "source": [
    "# [36]:\n",
    "# we can chain tests together using elif (else if)\n",
    "\n",
    "num = -1\n",
    "if num > 10:\n",
    "    print(num, 'is positive and greater than ten')\n",
    "elif num > 0:\n",
    "    print(num, 'is positive and less than or equal to ten')\n",
    "elif num == 0:\n",
    "    print(num, 'is zero')\n",
    "else:\n",
    "    print(num, 'is negative')"
   ]
  },
  {
   "cell_type": "code",
   "execution_count": 39,
   "metadata": {},
   "outputs": [
    {
     "name": "stdout",
     "output_type": "stream",
     "text": [
      "both parts are true\n"
     ]
    }
   ],
   "source": [
    "# [37]:\n",
    "\n",
    "# Test multiple conditions in tests using \"and\" or \"or\"\n",
    "x = 3\n",
    "y = 5\n",
    "if (x > 0 ) and (y >= 0):\n",
    "    print('both parts are true')\n",
    "else:\n",
    "    print('at least one part false')\n"
   ]
  },
  {
   "cell_type": "code",
   "execution_count": 40,
   "metadata": {},
   "outputs": [
    {
     "name": "stdout",
     "output_type": "stream",
     "text": [
      "at least one of these is true\n"
     ]
    }
   ],
   "source": [
    "# [38]:\n",
    "\n",
    "x = -3\n",
    "y = -5\n",
    "if (x < 0) or (y >= 0):\n",
    "    print('at least one of these is true')"
   ]
  },
  {
   "cell_type": "code",
   "execution_count": 41,
   "metadata": {},
   "outputs": [
    {
     "name": "stdout",
     "output_type": "stream",
     "text": [
      "D\n"
     ]
    }
   ],
   "source": [
    "# [39]:\n",
    "\n",
    "# Be aware of logic!\n",
    "# What is the output of this code?\n",
    "score = 77\n",
    "if score > 60:\n",
    "    grade = 'D'\n",
    "elif score > 70:\n",
    "    grade = 'C'\n",
    "elif score > 80:\n",
    "    grade = 'B'\n",
    "else:\n",
    "    grade = 'A'\n",
    "\n",
    "print(grade)\n"
   ]
  },
  {
   "cell_type": "markdown",
   "metadata": {},
   "source": [
    "### 1.  Use conditionals to group the data <a class=\"anchor\" id=\"bullet8\"></a>\n",
    "We would like to use conditionals to divide the **\"Popularity\"** of books into four stages.\n",
    "\n",
    "| Popularity Level | Ratings |\n",
    "| --- | --- |\n",
    "| Extremely Popular |  　4.8 or 4.9|\n",
    "| Very Popular | 4.5 ~ 4.7|\n",
    "| Fairly Popular | 4.0 ~ 4.4|\n",
    "| Popular | 3.3 ~ 3.9|"
   ]
  },
  {
   "cell_type": "code",
   "execution_count": 42,
   "metadata": {},
   "outputs": [],
   "source": [
    "# [40]:\n",
    "popularity = [0,0,0,0]\n",
    "for i in books.user_rating:\n",
    "    if i >= 4.8:\n",
    "        popularity[0] += 1\n",
    "    elif i >= 4.5:\n",
    "        popularity[1] += 1\n",
    "    elif i >= 4.0:\n",
    "        popularity[2] += 1\n",
    "    else:\n",
    "        popularity[3] += 1"
   ]
  },
  {
   "cell_type": "code",
   "execution_count": 43,
   "metadata": {},
   "outputs": [
    {
     "name": "stdout",
     "output_type": "stream",
     "text": [
      "[179, 273, 91, 7]\n"
     ]
    }
   ],
   "source": [
    "# [41]:\n",
    "print(popularity)"
   ]
  },
  {
   "cell_type": "code",
   "execution_count": 44,
   "metadata": {},
   "outputs": [
    {
     "name": "stdout",
     "output_type": "stream",
     "text": [
      "                             x    y\n",
      "0  Extremely Popular(4.8, 4.9)  179\n",
      "1      Very Popular(4.4 - 4.7)  273\n",
      "2    Fairly Popular(4.0 - 4.3)   91\n",
      "3              Popular (- 3.9)    7\n"
     ]
    }
   ],
   "source": [
    "# [42]:\n",
    "poplevels = ['Extremely Popular(4.8, 4.9)','Very Popular(4.4 - 4.7)','Fairly Popular(4.0 - 4.3)','Popular (- 3.9)']\n",
    "\n",
    "# How do we make this into a dataframe so we can visualize it?\n",
    "# Use pandas! \n",
    "recats    = pd.DataFrame(\n",
    "    {\"x\" : poplevels, \n",
    "      \"y\": popularity\n",
    "    })\n",
    "print(recats)"
   ]
  },
  {
   "cell_type": "markdown",
   "metadata": {},
   "source": [
    "### 2. Visualize Relationships with Seaborn <a class=\"anchor\" id=\"bullet9\"></a>\n",
    "\n",
    "#### On Seaborn’s official website, they state:\n",
    "\n",
    "If matplotlib “tries to make easy things easy and hard things possible”, \n",
    "seaborn makes a well-defined set of hard things easy too, including:\n",
    "\n",
    "- Using default themes that are aesthetically pleasing.\n",
    "- Setting custom color palettes.\n",
    "- Making attractive statistical plots.\n",
    "- Easily and flexibly displaying distributions.\n",
    "- Visualizing information from matrices and DataFrames.\n",
    "\n",
    "Here, Seaborn is our tool of choice for Exploratory Analysis. \n",
    "\n",
    "Statistical analysis is a process of understanding how variables in a dataset relate to each other and how those relationships depend on other variables. Visualization can be a core component of this process because, when data are visualized properly, the human eye can see trends and patterns that indicate a relationship.\n",
    "\n",
    "#### Overview of seaborn plotting functions\n",
    "\n",
    "Most of your interactions with seaborn will happen through a set of plotting functions.\n",
    "<img src=\"https://github.com/DeisData/seaborn/blob/main/structure.png?raw=true\" alt=\"import data\" width=\"350\"/>"
   ]
  },
  {
   "cell_type": "code",
   "execution_count": 45,
   "metadata": {},
   "outputs": [
    {
     "data": {
      "text/plain": [
       "<seaborn.axisgrid.FacetGrid at 0x7ffaa41197f0>"
      ]
     },
     "execution_count": 45,
     "metadata": {},
     "output_type": "execute_result"
    },
    {
     "data": {
      "image/png": "[encoded data removed]",
      "text/plain": [
       "<Figure size 360x360 with 1 Axes>"
      ]
     },
     "metadata": {
      "needs_background": "light"
     },
     "output_type": "display_data"
    }
   ],
   "source": [
    "# [43]:\n",
    "# Let's visualize the popularity category counts with a barplot!\n",
    "fig = sns.catplot(kind=\"bar\", data=recats, x=poplevels, y=popularity)\n",
    "\n",
    "# We can use tools from matplotlib to make it look nicer\n",
    "fig.set_xticklabels(rotation=30)"
   ]
  },
  {
   "cell_type": "markdown",
   "metadata": {},
   "source": [
    "### Data Exploration: Does the name 📖 of books affect User Rating?\n",
    "* The name of books is very important, because readers get a first impression from it.\n",
    "* Of course, the book which has short title is not always popular, and vice versa.\n",
    "* However, the short title has the advantage of being simple and easy to understand, and the long title has that of giving readers an accurate understanding of what the book is like.\n",
    "* Then, we try to find out the relationships between the length of name and rating.\n",
    "\n"
   ]
  },
  {
   "cell_type": "code",
   "execution_count": 46,
   "metadata": {},
   "outputs": [],
   "source": [
    "# [44]:\n",
    "# for loop for finding the name lengths\n",
    "name_len = []\n",
    "for i in books.name:\n",
    "    name_len.append(len(i))\n",
    "#print(name_len)"
   ]
  },
  {
   "cell_type": "markdown",
   "metadata": {},
   "source": [
    "We want to put this with our data as a new column so we can make comparisons!\n",
    "\n",
    "**Search**: *how to append new column to a dataframe python pandas*:\n",
    "[Top result](https://www.geeksforgeeks.org/adding-new-column-to-existing-dataframe-in-pandas/)"
   ]
  },
  {
   "cell_type": "code",
   "execution_count": 47,
   "metadata": {},
   "outputs": [],
   "source": [
    "# [45]:\n",
    "# Using 'name_length' as the column name\n",
    "# and equating it to the list\n",
    "books['name_length'] = name_len\n",
    "  \n",
    "# Observe the result\n",
    "#print(books)"
   ]
  },
  {
   "cell_type": "markdown",
   "metadata": {},
   "source": [
    "#### Q:  Does the name of books affect User Rating?\n",
    "\n",
    "How should we compare two quantitative variables to see if there is correlation?\n",
    "\n",
    "Let's look at the [seaborn gallery](https://seaborn.pydata.org/examples/)"
   ]
  },
  {
   "cell_type": "code",
   "execution_count": 48,
   "metadata": {},
   "outputs": [
    {
     "data": {
      "text/plain": [
       "<AxesSubplot:xlabel='name_length', ylabel='user_rating'>"
      ]
     },
     "execution_count": 48,
     "metadata": {},
     "output_type": "execute_result"
    },
    {
     "data": {
      "image/png": "[encoded data removed]",
      "text/plain": [
       "<Figure size 432x288 with 1 Axes>"
      ]
     },
     "metadata": {
      "needs_background": "light"
     },
     "output_type": "display_data"
    }
   ],
   "source": [
    "# [46]:\n",
    "sns.scatterplot(x=\"name_length\", y=\"user_rating\",\n",
    "                #hue=\"genre\", \n",
    "                data=books)"
   ]
  },
  {
   "cell_type": "markdown",
   "metadata": {},
   "source": [
    "#### Can we look at all the quantitative data at once?\n",
    "`pairplot()` combines joint and marginal views — but rather than focusing on a single relationship, it visualizes every pairwise combination of variables simultaneously:"
   ]
  },
  {
   "cell_type": "code",
   "execution_count": 49,
   "metadata": {},
   "outputs": [
    {
     "data": {
      "text/plain": [
       "<seaborn.axisgrid.PairGrid at 0x7ffaa4106370>"
      ]
     },
     "execution_count": 49,
     "metadata": {},
     "output_type": "execute_result"
    },
    {
     "data": {
      "image/png": "[encoded data removed]",
      "text/plain": [
       "<Figure size 991.5x900 with 30 Axes>"
      ]
     },
     "metadata": {
      "needs_background": "light"
     },
     "output_type": "display_data"
    }
   ],
   "source": [
    "# [47]:\n",
    "sns.pairplot(data=books, hue=\"genre\")"
   ]
  },
  {
   "cell_type": "markdown",
   "metadata": {},
   "source": [
    "### Challenge 2\n",
    "\n",
    "**Question 1.**  Thinking through conditionals.\n",
    "Consider this code:"
   ]
  },
  {
   "cell_type": "code",
   "execution_count": null,
   "metadata": {},
   "outputs": [],
   "source": [
    "# [48]:\n",
    "x = 4\n",
    "\n",
    "if x > 5:\n",
    "    print('A')\n",
    "elif x == 5:\n",
    "    print('B')\n",
    "elif x < 5:\n",
    "    print('C')"
   ]
  },
  {
   "cell_type": "markdown",
   "metadata": {},
   "source": [
    "Which of the following would be printed if you were to run this code? \n",
    "Why did you pick this answer?\n",
    "- A\n",
    "- B\n",
    "- C\n",
    "- B and C\n",
    "\n",
    "What is the answer if x = 5.0?"
   ]
  },
  {
   "cell_type": "markdown",
   "metadata": {},
   "source": [
    "**Question 2.**  Visually compare the User Rating versus Name Length for data with year==2019.  Then, try to color-code the graph by genre using `hue=`?"
   ]
  },
  {
   "cell_type": "code",
   "execution_count": 51,
   "metadata": {},
   "outputs": [],
   "source": [
    "# [49]:\n",
    "# Try it!:\n"
   ]
  },
  {
   "cell_type": "markdown",
   "metadata": {},
   "source": [
    "***\n",
    "## Session 3\n",
    "- Writing functions\n",
    "- Statistical Analysis"
   ]
  },
  {
   "cell_type": "markdown",
   "metadata": {
    "id": "Nbz8MQmXchMZ"
   },
   "source": [
    "***\n",
    "\n",
    "## Resources   <a class=\"anchor\" id=\"resources\"></a>\n",
    "- This workshop follows the guideance of Software Carpentry Lessons: [Programming with Python](https://swcarpentry.github.io/python-novice-inflammation/)\n",
    "- Our dataset is [Amazon Top 50 Bestselling Books 2009 - 2019](https://www.kaggle.com/sootersaalu/amazon-top-50-bestselling-books-2009-2019) from Kaggle.com\n",
    "- Request 1-1 consultations with [Brandeis Data Services](https://guides.library.brandeis.edu/dataservices)\n",
    "- Take time with tutorials at [Kaggle.com](https://www.kaggle.com/learn)\n",
    "- [Brandeis LinkedIn Learning portal](https://www.brandeis.edu/its/support/linkedin-learning/index.html)\n",
    "- [Stackoverflow](https://stackoverflow.com/)\n",
    "- [Statsmodels User Guide](https://www.statsmodels.org/stable/user-guide.html)\n",
    "- [Think stats](http://greenteapress.com/wp/think-stats-2e) book\n",
    "- [Pandas Cheat Sheet](https://pandas.pydata.org/Pandas_Cheat_Sheet.pdf)\n",
    "- [Pandas Getting Started Tutorials](https://pandas.pydata.org/docs/getting_started/index.html#getting-started)\n",
    "- Data Visualization:  [Python Graph Gallery](https://python-graph-gallery.com/)\n",
    "- [Seaborn example gallery](http://seaborn.pydata.org/examples/)\n",
    "- [Seaborn user guide and tutorial](https://seaborn.pydata.org/tutorial.html) \n",
    "- [Anaconda documentation](https://docs.anaconda.com/anaconda/install) \n",
    "\n",
    "\n",
    "#### Other Python Libraries\n",
    "- SciPy is widely used in scientific and technical computing: optimization, linear algebra, integration, interpolation, special functions, FFT, signal and image processing, ODE solvers and other tasks\n",
    "- Scikit-learn features various classification, regression and clustering algorithms including support vector machines, logistic regression, naive Bayes, random forests, gradient boosting, k-means and DBSCAN\n",
    "- Mlpy is a Python machine learning library built on top of NumPy/SciPy\n",
    "- NLTK The Natural Language Toolkit "
   ]
  },
  {
   "cell_type": "code",
   "execution_count": null,
   "metadata": {},
   "outputs": [],
   "source": []
  }
 ],
 "metadata": {
  "colab": {
   "collapsed_sections": [],
   "name": "Python_Programming.ipynb",
   "provenance": []
  },
  "kernelspec": {
   "display_name": "Python 3",
   "language": "python",
   "name": "python3"
  },
  "language_info": {
   "codemirror_mode": {
    "name": "ipython",
    "version": 3
   },
   "file_extension": ".py",
   "mimetype": "text/x-python",
   "name": "python",
   "nbconvert_exporter": "python",
   "pygments_lexer": "ipython3",
   "version": "3.8.5"
  },
  "papermill": {
   "duration": 11.308284,
   "end_time": "2021-01-28T05:37:53.680473",
   "environment_variables": {},
   "exception": null,
   "input_path": "__notebook__.ipynb",
   "output_path": "__notebook__.ipynb",
   "parameters": {},
   "start_time": "2021-01-28T05:37:42.372189",
   "version": "2.1.0"
  }
 },
 "nbformat": 4,
 "nbformat_minor": 1
}
